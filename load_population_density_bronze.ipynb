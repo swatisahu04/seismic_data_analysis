{
 "cells": [
  {
   "cell_type": "code",
   "execution_count": 0,
   "metadata": {
    "application/vnd.databricks.v1+cell": {
     "cellMetadata": {
      "byteLimit": 2048000,
      "rowLimit": 10000
     },
     "inputWidgets": {},
     "nuid": "0697e4da-60b8-4b7b-ad72-631c837633ee",
     "showTitle": false,
     "tableResultSettingsMap": {},
     "title": ""
    }
   },
   "outputs": [],
   "source": [
    "from pyspark.sql.functions import col\n",
    "\n",
    "# Load data into a DataFrame from shared data set\n",
    "df = spark.read.table(\"deep_sync_us_zip_code_metadata_populations_geo_centroid_lat_lng_city_names_state_dma_demographics.default.zip_code_metadata\")\n",
    "\n",
    "# Write to Delta table\n",
    "df.write.mode(\"overwrite\").format(\"delta\").saveAsTable(\"tabular.dataexpert.population_data_bronze\")"
   ]
  },
  {
   "cell_type": "code",
   "execution_count": 0,
   "metadata": {
    "application/vnd.databricks.v1+cell": {
     "cellMetadata": {
      "byteLimit": 2048000,
      "rowLimit": 10000
     },
     "inputWidgets": {},
     "nuid": "b3297097-4e3f-4de5-a0a5-25e1e83388c8",
     "showTitle": false,
     "tableResultSettingsMap": {},
     "title": ""
    }
   },
   "outputs": [],
   "source": [
    "from pyspark.sql.functions import col\n",
    "\n",
    "# Load the data\n",
    "df = spark.table(\"tabular.dataexpert.population_data_bronze\")\n",
    "\n",
    "# Define Quality Checks\n",
    "quality_checks = {\n",
    "    \"Check for Null ZIP Codes\": df.filter(col(\"ZIP\").isNull()).count(),\n",
    "    \"Check for Null GEOPOINTs\": df.filter(col(\"GEOPOINT\").isNull()).count(),\n",
    "    \"Check for Negative Population Values\": df.filter((col(\"TOTAL_POPULATION\") < 0) | \n",
    "                                                      (col(\"TOTAL_MALE_POPULATION\") < 0) | \n",
    "                                                      (col(\"TOTAL_FEMALE_POPULATION\") < 0)).count(),\n",
    "    \"Check for Total Population Mismatch\": df.filter(col(\"TOTAL_POPULATION\") != \n",
    "                                                     (col(\"TOTAL_MALE_POPULATION\") + col(\"TOTAL_FEMALE_POPULATION\"))).count(),\n",
    "    \"Check for Invalid Latitude/Longitude\": df.filter((col(\"LATITUDE\") < -90) | (col(\"LATITUDE\") > 90) |\n",
    "                                                     (col(\"LONGITUDE\") < -180) | (col(\"LONGITUDE\") > 180)).count(),\n",
    "    \"Check for Median Age Range (0-120)\": df.filter((col(\"MEDIAN_AGE\") < 0) | (col(\"MEDIAN_AGE\") > 120)).count(),\n",
    "}\n",
    "\n",
    "# Display Results\n",
    "for check, count in quality_checks.items():\n",
    "    print(f\"{check}: {count}\")\n",
    "\n",
    "# Generate a Summary Report\n",
    "summary_df = spark.createDataFrame([(k, v) for k, v in quality_checks.items()], [\"Check\", \"Count\"])\n",
    "display(summary_df)"
   ]
  }
 ],
 "metadata": {
  "application/vnd.databricks.v1+notebook": {
   "computePreferences": null,
   "dashboards": [],
   "environmentMetadata": {
    "base_environment": "",
    "environment_version": "2"
   },
   "language": "python",
   "notebookMetadata": {
    "mostRecentlyExecutedCommandWithImplicitDF": {
     "commandId": 6368848666129712,
     "dataframes": [
      "_sqldf"
     ]
    },
    "pythonIndentUnit": 4
   },
   "notebookName": "load_population_density_bronze",
   "widgets": {}
  },
  "language_info": {
   "name": "python"
  }
 },
 "nbformat": 4,
 "nbformat_minor": 0
}
