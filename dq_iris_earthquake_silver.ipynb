{
 "cells": [
  {
   "cell_type": "code",
   "execution_count": 0,
   "metadata": {
    "application/vnd.databricks.v1+cell": {
     "cellMetadata": {
      "byteLimit": 2048000,
      "rowLimit": 10000
     },
     "inputWidgets": {},
     "nuid": "5e9d9e07-d03f-4366-9107-3ac389e6be6a",
     "showTitle": true,
     "tableResultSettingsMap": {},
     "title": "Load Raw Seismic Data"
    }
   },
   "outputs": [],
   "source": [
    "from pyspark.sql import SparkSession\n",
    "from pyspark.sql.functions import col, avg, median, when, lit, unix_timestamp, to_timestamp, from_unixtime, round\n",
    "from pyspark.sql.window import Window\n",
    "\n",
    "# Initialize Spark Session\n",
    "spark = SparkSession.builder.appName(\"Seismic_Data_Quality\").getOrCreate()\n",
    "\n",
    "# Load raw seismic data from Delta Table\n",
    "df = spark.read.format(\"delta\").table(\"tabular.dataexpert.iris_seismic_events_2018_2024\")\n",
    "\n",
    "# Rename Columns for Consistency\n",
    "df = df.select(\n",
    "    col(\"EventId\").alias(\"event_id\"),\n",
    "    col(\"Time\").alias(\"time\"),\n",
    "    col(\"Latitude\").alias(\"latitude\"),\n",
    "    col(\"Longitude\").alias(\"longitude\"),\n",
    "    col(\"Depth/km\").alias(\"depth\"),\n",
    "    col(\"Author\").alias(\"author\"),\n",
    "    col(\"Catalog\").alias(\"catalog\"),\n",
    "    col(\"Contributor\").alias(\"contributor\"),\n",
    "    col(\"ContributorID\").alias(\"contributor_id\"),\n",
    "    col(\"MagType\").alias(\"mag_type\"),\n",
    "    col(\"Magnitude\").alias(\"magnitude\"),\n",
    "    col(\"MagAuthor\").alias(\"mag_author\"),\n",
    "    col(\"EventLocationName\").alias(\"event_location_name\")\n",
    ")\n",
    "# Show Sample Data Before Cleaning\n",
    "#df.show(5)\n",
    "#df.count()"
   ]
  },
  {
   "cell_type": "code",
   "execution_count": 0,
   "metadata": {
    "application/vnd.databricks.v1+cell": {
     "cellMetadata": {
      "byteLimit": 2048000,
      "rowLimit": 10000
     },
     "inputWidgets": {},
     "nuid": "d757f53e-c6fb-41f0-9951-10c5fae9c340",
     "showTitle": true,
     "tableResultSettingsMap": {},
     "title": "Deduplication Handling"
    }
   },
   "outputs": [],
   "source": [
    "# Define Partition Window for Deduplication\n",
    "window_spec = Window.partitionBy(\"event_id\", \"time\", \"longitude\", \"latitude\")\n",
    "\n",
    "# Deduplicate records & resolve conflicting magnitude\n",
    "df = df.withColumn(\"median_magnitude\", median(\"magnitude\").over(window_spec))\n",
    "df = df.withColumn(\"final_magnitude\", when(col(\"magnitude\").isNull(), col(\"median_magnitude\")).otherwise(col(\"magnitude\")))\n",
    "\n",
    "# Round longitude and latitude till 2 decimal places\n",
    "df = df.withColumn(\"latitude\", round(col(\"latitude\"), 2)).withColumn(\"longitude\", round(col(\"longitude\"), 2))\n",
    "\n",
    "# Drop duplicate events\n",
    "df = df.dropDuplicates([\"event_id\", \"time\", \"longitude\", \"latitude\"]).drop(\"median_magnitude\", \"magnitude\").withColumnRenamed(\"final_magnitude\", \"magnitude\")\n"
   ]
  },
  {
   "cell_type": "code",
   "execution_count": 0,
   "metadata": {
    "application/vnd.databricks.v1+cell": {
     "cellMetadata": {
      "byteLimit": 2048000,
      "rowLimit": 10000
     },
     "inputWidgets": {},
     "nuid": "d265bbc7-6709-429a-b31b-806436eaef36",
     "showTitle": true,
     "tableResultSettingsMap": {},
     "title": "Handling Missing Values"
    }
   },
   "outputs": [],
   "source": [
    "# Compute Regional Average Depth (For Missing Values)\n",
    "depth_avg = df.groupBy(\"latitude\", \"longitude\").agg(avg(\"depth\").alias(\"regional_avg_depth\"))\n",
    "\n",
    "# Join with original dataset to fill missing depth\n",
    "df = df.join(depth_avg, [\"latitude\", \"longitude\"], \"left\").withColumn(\n",
    "    \"depth\", when(col(\"depth\").isNull(), col(\"regional_avg_depth\")).otherwise(col(\"depth\"))\n",
    ").drop(\"regional_avg_depth\")\n",
    "\n",
    "# Fill Missing Coordinates by Using Closest Known Event\n",
    "df = df.withColumn(\n",
    "    \"latitude\", when(col(\"latitude\").isNull(), lit(0)).otherwise(col(\"latitude\"))\n",
    ").withColumn(\n",
    "    \"longitude\", when(col(\"longitude\").isNull(), lit(0)).otherwise(col(\"longitude\"))\n",
    ")"
   ]
  },
  {
   "cell_type": "code",
   "execution_count": 0,
   "metadata": {
    "application/vnd.databricks.v1+cell": {
     "cellMetadata": {
      "byteLimit": 2048000,
      "rowLimit": 10000
     },
     "inputWidgets": {},
     "nuid": "a3fae35f-1929-4635-b21d-e64eb668fe07",
     "showTitle": true,
     "tableResultSettingsMap": {},
     "title": "Validate Data (Drop Invalid Entries)"
    }
   },
   "outputs": [],
   "source": [
    "df = df.filter(\n",
    "    (col(\"latitude\").between(-90, 90)) &\n",
    "    (col(\"longitude\").between(-180, 180)) &\n",
    "    (col(\"magnitude\").between(0, 10)) \n",
    ")"
   ]
  },
  {
   "cell_type": "code",
   "execution_count": 0,
   "metadata": {
    "application/vnd.databricks.v1+cell": {
     "cellMetadata": {
      "byteLimit": 2048000,
      "rowLimit": 10000
     },
     "inputWidgets": {},
     "nuid": "c0bd7908-b529-4464-b9e1-eab7d2582dc1",
     "showTitle": true,
     "tableResultSettingsMap": {},
     "title": "Standardize Timestamp Format"
    }
   },
   "outputs": [],
   "source": [
    "#df = df.withColumn(\"time\", from_unixtime(unix_timestamp(col(\"time\")), \"yyyy-MM-dd HH:mm:ss\"))\n",
    "df = df.withColumn(\"time\", to_timestamp(col(\"time\"), \"yyyy-MM-dd'T'HH:mm:ss\"))"
   ]
  },
  {
   "cell_type": "code",
   "execution_count": 0,
   "metadata": {
    "application/vnd.databricks.v1+cell": {
     "cellMetadata": {
      "byteLimit": 2048000,
      "rowLimit": 10000
     },
     "inputWidgets": {},
     "nuid": "bbf4975b-d600-4484-ae4d-035ade54ac87",
     "showTitle": true,
     "tableResultSettingsMap": {},
     "title": "Save Clean Data to Delta Table"
    }
   },
   "outputs": [],
   "source": [
    "# Partition Data by Year and Month\n",
    "df = df.withColumn(\"year\", col(\"time\").substr(1, 4)).withColumn(\"month\", col(\"time\").substr(6, 2))\n",
    "\n",
    "# Write Clean Data to Delta Table\n",
    "df.write.format(\"delta\").mode(\"overwrite\").partitionBy(\"year\", \"month\").saveAsTable(\"tabular.dataexpert.iris_seismic_events_silver\")\n",
    "\n",
    "print(\"Seismic Data Quality Checks Completed & Stored in Delta Table!\")\n"
   ]
  }
 ],
 "metadata": {
  "application/vnd.databricks.v1+notebook": {
   "computePreferences": null,
   "dashboards": [],
   "environmentMetadata": {
    "base_environment": "",
    "environment_version": "2"
   },
   "language": "python",
   "notebookMetadata": {
    "pythonIndentUnit": 4
   },
   "notebookName": "dq_iris_earthquake_silver",
   "widgets": {}
  },
  "language_info": {
   "name": "python"
  }
 },
 "nbformat": 4,
 "nbformat_minor": 0
}
