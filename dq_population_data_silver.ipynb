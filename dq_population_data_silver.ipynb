{
 "cells": [
  {
   "cell_type": "code",
   "execution_count": 0,
   "metadata": {
    "application/vnd.databricks.v1+cell": {
     "cellMetadata": {
      "byteLimit": 2048000,
      "rowLimit": 10000
     },
     "inputWidgets": {},
     "nuid": "ee022f81-b6ea-4a8f-ace2-343773e2d28c",
     "showTitle": false,
     "tableResultSettingsMap": {},
     "title": ""
    }
   },
   "outputs": [],
   "source": [
    "from pyspark.sql.functions import col, round\n",
    "\n",
    "# Load the data\n",
    "df = spark.table(\"tabular.dataexpert.population_data_bronze\")\n",
    "\n",
    "# Round longitude and latitude till 2 decimal places\n",
    "df = df.withColumn(\"latitude\", round(col(\"latitude\"), 2)).withColumn(\"longitude\", round(col(\"longitude\"), 2))\n",
    "\n",
    "# Define Quality Checks\n",
    "quality_checks = {\n",
    "    \"Check for Null ZIP Codes\": df.filter(col(\"ZIP\").isNull()).count(),\n",
    "    \"Check for Null GEOPOINTs\": df.filter(col(\"GEOPOINT\").isNull()).count(),\n",
    "    \"Check for Negative Population Values\": df.filter((col(\"TOTAL_POPULATION\") < 0) | \n",
    "                                                      (col(\"TOTAL_MALE_POPULATION\") < 0) | \n",
    "                                                      (col(\"TOTAL_FEMALE_POPULATION\") < 0)).count(),\n",
    "    \"Check for Total Population Mismatch\": df.filter(col(\"TOTAL_POPULATION\") != \n",
    "                                                     (col(\"TOTAL_MALE_POPULATION\") + col(\"TOTAL_FEMALE_POPULATION\"))).count(),\n",
    "    \"Check for Invalid Latitude/Longitude\": df.filter((col(\"LATITUDE\") < -90) | (col(\"LATITUDE\") > 90) |\n",
    "                                                     (col(\"LONGITUDE\") < -180) | (col(\"LONGITUDE\") > 180)).count(),\n",
    "    \"Check for Median Age Range (0-120)\": df.filter((col(\"MEDIAN_AGE\") < 0) | (col(\"MEDIAN_AGE\") > 120)).count(),\n",
    "}\n",
    "\n",
    "# Display Results\n",
    "for check, count in quality_checks.items():\n",
    "    print(f\"{check}: {count}\")\n",
    "\n",
    "# Generate a Summary Report\n",
    "summary_df = spark.createDataFrame([(k, v) for k, v in quality_checks.items()], [\"Check\", \"Count\"])\n",
    "display(summary_df)"
   ]
  },
  {
   "cell_type": "code",
   "execution_count": 0,
   "metadata": {
    "application/vnd.databricks.v1+cell": {
     "cellMetadata": {
      "byteLimit": 2048000,
      "rowLimit": 10000
     },
     "inputWidgets": {},
     "nuid": "368048dd-6184-478b-9ce7-9fd0e31939de",
     "showTitle": false,
     "tableResultSettingsMap": {},
     "title": ""
    }
   },
   "outputs": [],
   "source": [
    "# Check if all data quality checks passed\n",
    "if all(count == 0 for count in quality_checks.values()):\n",
    "    # Write the data to the silver table\n",
    "    df.write.format(\"delta\").mode(\"overwrite\").saveAsTable(\"tabular.dataexpert.population_data_silver\")\n",
    "else:\n",
    "    print(\"Data quality checks failed. Data not written to silver table.\")"
   ]
  }
 ],
 "metadata": {
  "application/vnd.databricks.v1+notebook": {
   "computePreferences": null,
   "dashboards": [],
   "environmentMetadata": {
    "base_environment": "",
    "environment_version": "2"
   },
   "language": "python",
   "notebookMetadata": {
    "pythonIndentUnit": 4
   },
   "notebookName": "dq_population_data_silver",
   "widgets": {}
  },
  "language_info": {
   "name": "python"
  }
 },
 "nbformat": 4,
 "nbformat_minor": 0
}
