{
 "cells": [
  {
   "cell_type": "code",
   "execution_count": 0,
   "metadata": {
    "application/vnd.databricks.v1+cell": {
     "cellMetadata": {
      "byteLimit": 2048000,
      "rowLimit": 10000
     },
     "inputWidgets": {},
     "nuid": "49754cdd-742b-4608-8f03-eaf9127e3ed3",
     "showTitle": false,
     "tableResultSettingsMap": {},
     "title": ""
    }
   },
   "outputs": [],
   "source": [
    "from pyspark.sql import SparkSession\n",
    "from pyspark.sql.functions import col, avg, median, when, lit, unix_timestamp, from_unixtime, min, max\n",
    "from pyspark.sql.window import Window\n",
    "from pyspark.sql import functions as F\n",
    "\n",
    "# Initialize Spark Session\n",
    "spark = SparkSession.builder.appName(\"Seismic_Events\").getOrCreate()\n",
    "\n",
    "# Load raw seismic data from Delta Table\n",
    "usgs_df = spark.read.format(\"delta\").table(\"tabular.dataexpert.usgs_seismic_events_silver\")\n",
    "iris_df = spark.read.format(\"delta\").table(\"tabular.dataexpert.iris_seismic_events_silver\")\n",
    "\n",
    "#Display data before joining\n",
    "#iris_df.show(5)\n",
    "#usgs_df.show(5)\n",
    "#usgs_df.count()\n",
    "\n",
    "\n"
   ]
  },
  {
   "cell_type": "code",
   "execution_count": 0,
   "metadata": {
    "application/vnd.databricks.v1+cell": {
     "cellMetadata": {
      "byteLimit": 2048000,
      "rowLimit": 10000
     },
     "inputWidgets": {},
     "nuid": "c97a920c-2c65-4aaa-b990-e51fde234fd2",
     "showTitle": false,
     "tableResultSettingsMap": {},
     "title": ""
    }
   },
   "outputs": [],
   "source": [
    "# Add a column to determine severity of earthquake based on the depth of the earthquake\n",
    "\n",
    "usgs_df = usgs_df.withColumn(\n",
    "    'severity',\n",
    "    F.when(F.col('depth') < 70, 'High Severity')\n",
    "     .when((F.col('depth') >= 70) & (F.col('depth') < 300), 'Moderate Severity')\n",
    "     .otherwise('Low Severity')\n",
    ")\n",
    "#display(usgs_df)"
   ]
  },
  {
   "cell_type": "code",
   "execution_count": 0,
   "metadata": {
    "application/vnd.databricks.v1+cell": {
     "cellMetadata": {
      "byteLimit": 2048000,
      "rowLimit": 10000
     },
     "inputWidgets": {},
     "nuid": "b372dfd8-3e18-427d-b907-5049e927e0bc",
     "showTitle": false,
     "tableResultSettingsMap": {},
     "title": ""
    }
   },
   "outputs": [],
   "source": [
    "# Iris dataset with distinct values of latitude, longitude and location\n",
    "iris_filtered_df = iris_df.select(\n",
    "    'latitude', \n",
    "    'longitude', \n",
    "    'event_location_name'\n",
    ").distinct()\n",
    "\n",
    "\n",
    "\n",
    "#  Join 'iris_df' and 'usgs_df' on latitude and longitude with precision up to 2 decimals\n",
    "joined_df = usgs_df.alias('usgs') \\\n",
    "     .join(\n",
    "        iris_filtered_df.alias('iris'),\n",
    "        (F.col('iris.latitude') == F.col('usgs.latitude')) & \n",
    "        (F.col('iris.longitude') == F.col('usgs.longitude')),\n",
    "        'left'\n",
    "     ) \\\n",
    "    .select(\n",
    "        'usgs.*',  # Select all columns from the usgs DataFrame\n",
    "        'iris.event_location_name'\n",
    "    )\n",
    "\n",
    "final_df = joined_df.filter(F.col('event_location_name').isNotNull())\n",
    "final_df.count()"
   ]
  },
  {
   "cell_type": "code",
   "execution_count": 0,
   "metadata": {
    "application/vnd.databricks.v1+cell": {
     "cellMetadata": {
      "byteLimit": 2048000,
      "rowLimit": 10000
     },
     "inputWidgets": {},
     "nuid": "9553daa3-5604-4fa8-b47e-fbc356b44042",
     "showTitle": false,
     "tableResultSettingsMap": {},
     "title": ""
    }
   },
   "outputs": [],
   "source": [
    "#Rename event_location name column\n",
    "\n",
    "final_df = final_df.withColumnRenamed(\"event_location_name\", \"location\")\n",
    "#display(final_df)"
   ]
  },
  {
   "cell_type": "code",
   "execution_count": 0,
   "metadata": {
    "application/vnd.databricks.v1+cell": {
     "cellMetadata": {
      "byteLimit": 2048000,
      "rowLimit": 10000
     },
     "inputWidgets": {},
     "nuid": "84020fac-f6e3-488f-9551-070ba6115e6e",
     "showTitle": false,
     "tableResultSettingsMap": {},
     "title": ""
    }
   },
   "outputs": [],
   "source": [
    "# find minimum and maximum magnitude for a region\n",
    "final_df = final_df.withColumn(\n",
    "    \"min_region_magnitude\", \n",
    "    F.min(F.col(\"magnitude\")).over(Window.partitionBy(\"location\")))\n",
    "\n",
    "final_df = final_df.withColumn(\n",
    "    \"max_region_magnitude\", \n",
    "    F.max(F.col(\"magnitude\")).over(Window.partitionBy(\"location\")))\n",
    "\n",
    "final_df.show(2)\n",
    "\n",
    "# final_df.select('magnitude', 'location', 'min_region_magnitude', 'max_region_magnitude').show(500)"
   ]
  },
  {
   "cell_type": "code",
   "execution_count": 0,
   "metadata": {
    "application/vnd.databricks.v1+cell": {
     "cellMetadata": {
      "byteLimit": 2048000,
      "rowLimit": 10000
     },
     "inputWidgets": {},
     "nuid": "69852ca6-3274-4375-9f62-e7af66e37881",
     "showTitle": false,
     "tableResultSettingsMap": {},
     "title": ""
    }
   },
   "outputs": [],
   "source": [
    "#drop columns that are not being used\n",
    "\n",
    "final_df = final_df.drop(\"detail\", \"timezone\", \"url\", \"ids\", \"types\")\n"
   ]
  },
  {
   "cell_type": "code",
   "execution_count": 0,
   "metadata": {
    "application/vnd.databricks.v1+cell": {
     "cellMetadata": {
      "byteLimit": 2048000,
      "rowLimit": 10000
     },
     "inputWidgets": {},
     "nuid": "a9a480f6-231d-4729-89bf-c086ff39066f",
     "showTitle": false,
     "tableResultSettingsMap": {},
     "title": ""
    }
   },
   "outputs": [],
   "source": [
    "final_df.printSchema()"
   ]
  },
  {
   "cell_type": "code",
   "execution_count": 0,
   "metadata": {
    "application/vnd.databricks.v1+cell": {
     "cellMetadata": {
      "byteLimit": 2048000,
      "rowLimit": 10000
     },
     "inputWidgets": {},
     "nuid": "27dc7bc9-3a66-4389-b52f-d96a1d5fb04e",
     "showTitle": false,
     "tableResultSettingsMap": {},
     "title": ""
    }
   },
   "outputs": [],
   "source": [
    "# Check if the table exists\n",
    "if spark.catalog.tableExists(\"tabular.dataexpert.seismic_events_gold\"):\n",
    "    # Drop the table if it exists\n",
    "    spark.sql(\"DROP TABLE tabular.dataexpert.seismic_events_gold\")\n",
    "\n",
    "# Write the new data to the Delta table\n",
    "final_df.write.format(\"delta\").mode(\"overwrite\").partitionBy(\"year\", \"month\").saveAsTable(\"tabular.dataexpert.seismic_events_gold\")"
   ]
  }
 ],
 "metadata": {
  "application/vnd.databricks.v1+notebook": {
   "computePreferences": null,
   "dashboards": [],
   "environmentMetadata": {
    "base_environment": "",
    "environment_version": "2"
   },
   "language": "python",
   "notebookMetadata": {
    "pythonIndentUnit": 4
   },
   "notebookName": "Seismic_events_gold",
   "widgets": {}
  },
  "language_info": {
   "name": "python"
  }
 },
 "nbformat": 4,
 "nbformat_minor": 0
}
